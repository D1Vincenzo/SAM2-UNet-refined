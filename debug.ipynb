{
 "cells": [
  {
   "cell_type": "code",
   "execution_count": 2,
   "id": "9ca9eac7",
   "metadata": {},
   "outputs": [
    {
     "name": "stderr",
     "output_type": "stream",
     "text": [
      "100%|██████████| 30/30 [02:04<00:00,  4.16s/it]\n"
     ]
    }
   ],
   "source": [
    "import os\n",
    "import nibabel as nib\n",
    "import numpy as np\n",
    "from PIL import Image\n",
    "from tqdm import tqdm\n",
    "\n",
    "def nii_to_png(img_dir, label_dir, output_img_dir, output_mask_dir):\n",
    "    os.makedirs(output_img_dir, exist_ok=True)\n",
    "    os.makedirs(output_mask_dir, exist_ok=True)\n",
    "\n",
    "    img_files = sorted([f for f in os.listdir(img_dir) if f.endswith('.nii') or f.endswith('.nii.gz')])\n",
    "    label_files = sorted([f for f in os.listdir(label_dir) if f.endswith('.nii') or f.endswith('.nii.gz')])\n",
    "\n",
    "    assert len(img_files) == len(label_files), \"图像和标签数量不一致\"\n",
    "\n",
    "    idx = 0  # 用于文件命名编号\n",
    "\n",
    "    for img_file, label_file in tqdm(zip(img_files, label_files), total=len(img_files)):\n",
    "        img_path = os.path.join(img_dir, img_file)\n",
    "        label_path = os.path.join(label_dir, label_file)\n",
    "\n",
    "        # 读取 nii 文件\n",
    "        img_nii = nib.load(img_path).get_fdata()\n",
    "        label_nii = nib.load(label_path).get_fdata()\n",
    "\n",
    "        # 检查维度一致\n",
    "        assert img_nii.shape == label_nii.shape, f\"维度不一致: {img_file}\"\n",
    "\n",
    "        # 对每一层切片进行保存（Z 轴）\n",
    "        for i in range(img_nii.shape[2]):\n",
    "            img_slice = img_nii[:, :, i]\n",
    "            label_slice = label_nii[:, :, i]\n",
    "\n",
    "            # Normalize 图像到 0~255（标签假设已为 0/1）\n",
    "            img_norm = ((img_slice - np.min(img_slice)) / (np.ptp(img_slice) + 1e-8) * 255).astype(np.uint8)\n",
    "            label_bin = ((label_slice > 0) * 255).astype(np.uint8)  # 处理为二值掩码\n",
    "\n",
    "            img_pil = Image.fromarray(img_norm).convert('L')  # 单通道灰度图\n",
    "            label_pil = Image.fromarray(label_bin).convert('L')\n",
    "\n",
    "            img_pil.save(os.path.join(output_img_dir, f\"image_{idx:05d}.png\"))\n",
    "            label_pil.save(os.path.join(output_mask_dir, f\"mask_{idx:05d}.png\"))\n",
    "\n",
    "            idx += 1\n",
    "\n",
    "if __name__ == \"__main__\":\n",
    "    # 输入路径\n",
    "    img_dir = \"/home/hxy/Desktop/medAI_template/raw_datasets/RawData/Training/img\"\n",
    "    label_dir = \"/home/hxy/Desktop/medAI_template/raw_datasets/RawData/Training/label\"\n",
    "\n",
    "    # 输出路径\n",
    "    output_img_dir = \"./processed_dataset/images/\"\n",
    "    output_mask_dir = \"./processed_dataset/masks/\"\n",
    "\n",
    "    nii_to_png(img_dir, label_dir, output_img_dir, output_mask_dir)\n"
   ]
  }
 ],
 "metadata": {
  "kernelspec": {
   "display_name": "sam2-unet",
   "language": "python",
   "name": "python3"
  },
  "language_info": {
   "codemirror_mode": {
    "name": "ipython",
    "version": 3
   },
   "file_extension": ".py",
   "mimetype": "text/x-python",
   "name": "python",
   "nbconvert_exporter": "python",
   "pygments_lexer": "ipython3",
   "version": "3.10.17"
  }
 },
 "nbformat": 4,
 "nbformat_minor": 5
}
